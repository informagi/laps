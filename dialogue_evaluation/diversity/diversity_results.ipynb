{
 "cells": [
  {
   "cell_type": "code",
   "execution_count": 1,
   "metadata": {},
   "outputs": [],
   "source": [
    "from metrics import DistinctNgrams, EntropyNgrams, SelfBLEU\n",
    "\n",
    "# Instantiate the DistinctNgrams class with n=1 and n=2\n",
    "dist1 = DistinctNgrams(n=1)\n",
    "dist2 = DistinctNgrams(n=2)\n",
    "ent4 = EntropyNgrams(n=4)\n",
    "sbleu = SelfBLEU(n=4)\n",
    "\n",
    "MAX_TOKEN_LEN = 7012 \n",
    "N_ITERATION = 100"
   ]
  },
  {
   "cell_type": "code",
   "execution_count": 2,
   "metadata": {},
   "outputs": [],
   "source": [
    "import pandas as pd\n",
    "import json\n",
    "import time\n",
    "\n",
    "def get_metrics(all_messages, assistant_messages, user_messages, significant_digits=3, dataset_name='no-name', m=MAX_TOKEN_LEN, n=N_ITERATION):\n",
    "    \"\"\"Calculate Distinct-1, Distinct-2, Entropy-4, and Self-BLEU metrics for 'both', 'assistant', and 'user' messages.\n",
    "    \"\"\"\n",
    "    \n",
    "    start_time = time.time()\n",
    "    d1_both = dist1.calculate_truncated_distinct_n(all_messages, max_token_length=m, return_avg=False, iterations=n)\n",
    "    d1_asst = dist1.calculate_truncated_distinct_n(assistant_messages, max_token_length=m, return_avg=False, iterations=n)\n",
    "    d1_user = dist1.calculate_truncated_distinct_n(user_messages, max_token_length=m, return_avg=False, iterations=n)\n",
    "    print(f\"Dist-1: {time.time() - start_time} seconds\")\n",
    "\n",
    "    start_time = time.time()\n",
    "    d2_both = dist2.calculate_truncated_distinct_n(all_messages, max_token_length=m, return_avg=False, iterations=n)\n",
    "    d2_asst = dist2.calculate_truncated_distinct_n(assistant_messages, max_token_length=m, return_avg=False, iterations=n)\n",
    "    d2_user = dist2.calculate_truncated_distinct_n(user_messages, max_token_length=m, return_avg=False, iterations=n)\n",
    "    print(f\"Dist-2: {time.time() - start_time} seconds\")\n",
    "\n",
    "    start_time = time.time()\n",
    "    e4_both = ent4.calculate_truncated_entropy_n(all_messages, max_token_length=m, return_avg=False, iterations=n)\n",
    "    e4_asst = ent4.calculate_truncated_entropy_n(assistant_messages, max_token_length=m, return_avg=False, iterations=n)\n",
    "    e4_user = ent4.calculate_truncated_entropy_n(user_messages, max_token_length=m, return_avg=False, iterations=n)\n",
    "    print(f\"Ent-4: {time.time() - start_time} seconds\")\n",
    "\n",
    "    start_time = time.time()\n",
    "    sb_both = sbleu.calculate_truncated_self_bleu(all_messages, max_token_length=m, return_avg=False, iterations=n)\n",
    "    sb_asst = sbleu.calculate_truncated_self_bleu(assistant_messages, max_token_length=m, return_avg=False, iterations=n)\n",
    "    sb_user = sbleu.calculate_truncated_self_bleu(user_messages, max_token_length=m, return_avg=False, iterations=n)\n",
    "    print(f\"Self-BLEU: {time.time() - start_time} seconds\")\n",
    "\n",
    "    # calculate average and convert to string with digit\n",
    "    d1_both_avg, d1_asst_avg, d1_user_avg = str(round(sum(d1_both) / len(d1_both), significant_digits)), str(round(sum(d1_asst) / len(d1_asst), significant_digits)), str(round(sum(d1_user) / len(d1_user), significant_digits))\n",
    "    d2_both_avg, d2_asst_avg, d2_user_avg = str(round(sum(d2_both) / len(d2_both), significant_digits)), str(round(sum(d2_asst) / len(d2_asst), significant_digits)), str(round(sum(d2_user) / len(d2_user), significant_digits))\n",
    "    e4_both_avg, e4_asst_avg, e4_user_avg = str(round(sum(e4_both) / len(e4_both), significant_digits)), str(round(sum(e4_asst) / len(e4_asst), significant_digits)), str(round(sum(e4_user) / len(e4_user), significant_digits))\n",
    "    sb_both_avg, sb_asst_avg, sb_user_avg = str(round(sum(sb_both) / len(sb_both), significant_digits)), str(round(sum(sb_asst) / len(sb_asst), significant_digits)), str(round(sum(sb_user) / len(sb_user), significant_digits))\n",
    "\n",
    "    metrics_dict = {\n",
    "        ('Dist-1/2', 'Both'): [ f\"{d1_both_avg} / {d2_both_avg}\" ], ('Dist-1/2', 'Asst'): [ f\"{d1_asst_avg} / {d2_asst_avg}\" ], ('Dist-1/2', 'User'): [ f\"{d1_user_avg} / {d2_user_avg}\" ],\n",
    "        ('Ent-4', 'Both'): [ f\"{e4_both_avg}\" ], ('Ent-4', 'Asst'): [ f\"{e4_asst_avg}\" ], ('Ent-4', 'User'): [ f\"{e4_user_avg}\" ],\n",
    "        ('Self-BLEU', 'Both'): [ f\"{sb_both_avg}\" ], ('Self-BLEU', 'Asst'): [ f\"{sb_asst_avg}\" ], ('Self-BLEU', 'User'): [ f\"{sb_user_avg}\" ],\n",
    "    }\n",
    "    df = pd.DataFrame(metrics_dict)\n",
    "    df.index = [dataset_name]\n",
    "\n",
    "    return df\n",
    "\n",
    "import data_loader as dl"
   ]
  },
  {
   "cell_type": "code",
   "execution_count": 3,
   "metadata": {},
   "outputs": [
    {
     "name": "stdout",
     "output_type": "stream",
     "text": [
      "Dist-1: 2.427013635635376 seconds\n",
      "Dist-2: 2.400749921798706 seconds\n",
      "Ent-4: 13.937196493148804 seconds\n",
      "Self-BLEU: 448.69724321365356 seconds\n"
     ]
    },
    {
     "data": {
      "text/html": [
       "<div>\n",
       "<style scoped>\n",
       "    .dataframe tbody tr th:only-of-type {\n",
       "        vertical-align: middle;\n",
       "    }\n",
       "\n",
       "    .dataframe tbody tr th {\n",
       "        vertical-align: top;\n",
       "    }\n",
       "\n",
       "    .dataframe thead tr th {\n",
       "        text-align: left;\n",
       "    }\n",
       "</style>\n",
       "<table border=\"1\" class=\"dataframe\">\n",
       "  <thead>\n",
       "    <tr>\n",
       "      <th></th>\n",
       "      <th colspan=\"3\" halign=\"left\">Dist-1/2</th>\n",
       "      <th colspan=\"3\" halign=\"left\">Ent-4</th>\n",
       "      <th colspan=\"3\" halign=\"left\">Self-BLEU</th>\n",
       "    </tr>\n",
       "    <tr>\n",
       "      <th></th>\n",
       "      <th>Both</th>\n",
       "      <th>Asst</th>\n",
       "      <th>User</th>\n",
       "      <th>Both</th>\n",
       "      <th>Asst</th>\n",
       "      <th>User</th>\n",
       "      <th>Both</th>\n",
       "      <th>Asst</th>\n",
       "      <th>User</th>\n",
       "    </tr>\n",
       "  </thead>\n",
       "  <tbody>\n",
       "    <tr>\n",
       "      <th>LAPS-Recipe</th>\n",
       "      <td>0.207 / 0.65</td>\n",
       "      <td>0.207 / 0.61</td>\n",
       "      <td>0.188 / 0.641</td>\n",
       "      <td>8.563</td>\n",
       "      <td>8.506</td>\n",
       "      <td>8.575</td>\n",
       "      <td>0.955</td>\n",
       "      <td>0.958</td>\n",
       "      <td>0.956</td>\n",
       "    </tr>\n",
       "  </tbody>\n",
       "</table>\n",
       "</div>"
      ],
      "text/plain": [
       "                 Dist-1/2                               Ent-4                 \n",
       "                     Both          Asst           User   Both   Asst   User   \n",
       "LAPS-Recipe  0.207 / 0.65  0.207 / 0.61  0.188 / 0.641  8.563  8.506  8.575  \\\n",
       "\n",
       "            Self-BLEU                \n",
       "                 Both   Asst   User  \n",
       "LAPS-Recipe     0.955  0.958  0.956  "
      ]
     },
     "execution_count": 3,
     "metadata": {},
     "output_type": "execute_result"
    }
   ],
   "source": [
    "ours = dl.OursPublished(topic='recipe')\n",
    "all_messages, assistant_messages, user_messages = ours.get_messages()\n",
    "df_laps_recipe = get_metrics(all_messages, assistant_messages, user_messages, significant_digits=3, dataset_name='LAPS-Recipe')\n",
    "df_laps_recipe"
   ]
  },
  {
   "cell_type": "code",
   "execution_count": 4,
   "metadata": {},
   "outputs": [
    {
     "name": "stdout",
     "output_type": "stream",
     "text": [
      "Dist-1: 1.7006545066833496 seconds\n",
      "Dist-2: 1.7576024532318115 seconds\n",
      "Ent-4: 13.080648183822632 seconds\n",
      "Self-BLEU: 429.71686911582947 seconds\n"
     ]
    },
    {
     "data": {
      "text/html": [
       "<div>\n",
       "<style scoped>\n",
       "    .dataframe tbody tr th:only-of-type {\n",
       "        vertical-align: middle;\n",
       "    }\n",
       "\n",
       "    .dataframe tbody tr th {\n",
       "        vertical-align: top;\n",
       "    }\n",
       "\n",
       "    .dataframe thead tr th {\n",
       "        text-align: left;\n",
       "    }\n",
       "</style>\n",
       "<table border=\"1\" class=\"dataframe\">\n",
       "  <thead>\n",
       "    <tr>\n",
       "      <th></th>\n",
       "      <th colspan=\"3\" halign=\"left\">Dist-1/2</th>\n",
       "      <th colspan=\"3\" halign=\"left\">Ent-4</th>\n",
       "      <th colspan=\"3\" halign=\"left\">Self-BLEU</th>\n",
       "    </tr>\n",
       "    <tr>\n",
       "      <th></th>\n",
       "      <th>Both</th>\n",
       "      <th>Asst</th>\n",
       "      <th>User</th>\n",
       "      <th>Both</th>\n",
       "      <th>Asst</th>\n",
       "      <th>User</th>\n",
       "      <th>Both</th>\n",
       "      <th>Asst</th>\n",
       "      <th>User</th>\n",
       "    </tr>\n",
       "  </thead>\n",
       "  <tbody>\n",
       "    <tr>\n",
       "      <th>LAPS-Movie</th>\n",
       "      <td>0.222 / 0.666</td>\n",
       "      <td>0.225 / 0.625</td>\n",
       "      <td>0.202 / 0.661</td>\n",
       "      <td>8.593</td>\n",
       "      <td>8.534</td>\n",
       "      <td>8.59</td>\n",
       "      <td>0.954</td>\n",
       "      <td>0.957</td>\n",
       "      <td>0.954</td>\n",
       "    </tr>\n",
       "  </tbody>\n",
       "</table>\n",
       "</div>"
      ],
      "text/plain": [
       "                 Dist-1/2                                Ent-4                \n",
       "                     Both           Asst           User   Both   Asst  User   \n",
       "LAPS-Movie  0.222 / 0.666  0.225 / 0.625  0.202 / 0.661  8.593  8.534  8.59  \\\n",
       "\n",
       "           Self-BLEU                \n",
       "                Both   Asst   User  \n",
       "LAPS-Movie     0.954  0.957  0.954  "
      ]
     },
     "execution_count": 4,
     "metadata": {},
     "output_type": "execute_result"
    }
   ],
   "source": [
    "ours = dl.OursPublished(topic='movie')\n",
    "all_messages, assistant_messages, user_messages = ours.get_messages()\n",
    "df_laps_movie = get_metrics(all_messages, assistant_messages, user_messages, significant_digits=3, dataset_name='LAPS-Movie')\n",
    "df_laps_movie"
   ]
  }
 ],
 "metadata": {
  "kernelspec": {
   "display_name": "230525_chatgpt",
   "language": "python",
   "name": "python3"
  },
  "language_info": {
   "codemirror_mode": {
    "name": "ipython",
    "version": 3
   },
   "file_extension": ".py",
   "mimetype": "text/x-python",
   "name": "python",
   "nbconvert_exporter": "python",
   "pygments_lexer": "ipython3",
   "version": "3.8.16"
  }
 },
 "nbformat": 4,
 "nbformat_minor": 2
}

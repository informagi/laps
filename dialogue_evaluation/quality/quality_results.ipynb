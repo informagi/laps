{
 "cells": [
  {
   "cell_type": "code",
   "execution_count": 1,
   "metadata": {},
   "outputs": [],
   "source": [
    "from quality import get_metrics_from_score_path, add_avg_cols"
   ]
  },
  {
   "cell_type": "code",
   "execution_count": 2,
   "metadata": {},
   "outputs": [],
   "source": [
    "# Ours published\n",
    "df_recipe = get_metrics_from_score_path('./unieval_scores/our_pub_recipe.json')\n",
    "df_recipe.index = ['our_pub (recipe)']\n",
    "\n",
    "df_movie = get_metrics_from_score_path('./unieval_scores/our_pub_movie.json')\n",
    "df_movie.index = ['our_pub (movie)']"
   ]
  },
  {
   "cell_type": "markdown",
   "metadata": {},
   "source": [
    "# Results"
   ]
  },
  {
   "cell_type": "code",
   "execution_count": 3,
   "metadata": {},
   "outputs": [
    {
     "data": {
      "text/html": [
       "<style type=\"text/css\">\n",
       "#T_91aae th {\n",
       "  text-align: center;\n",
       "}\n",
       "#T_91aae_row0_col0, #T_91aae_row0_col1, #T_91aae_row0_col2, #T_91aae_row0_col3, #T_91aae_row0_col4, #T_91aae_row0_col5, #T_91aae_row0_col6, #T_91aae_row0_col7, #T_91aae_row0_col8, #T_91aae_row0_col9, #T_91aae_row1_col0, #T_91aae_row1_col1, #T_91aae_row1_col2, #T_91aae_row1_col3, #T_91aae_row1_col4, #T_91aae_row1_col5, #T_91aae_row1_col6, #T_91aae_row1_col7, #T_91aae_row1_col8, #T_91aae_row1_col9 {\n",
       "  text-align: center;\n",
       "}\n",
       "</style>\n",
       "<table id=\"T_91aae\">\n",
       "  <thead>\n",
       "    <tr>\n",
       "      <th class=\"blank level0\" >&nbsp;</th>\n",
       "      <th id=\"T_91aae_level0_col0\" class=\"col_heading level0 col0\" colspan=\"3\">UniEval (COH)</th>\n",
       "      <th id=\"T_91aae_level0_col3\" class=\"col_heading level0 col3\" colspan=\"3\">UniEval (UND)</th>\n",
       "      <th id=\"T_91aae_level0_col6\" class=\"col_heading level0 col6\" colspan=\"3\">UniEval (NAT)</th>\n",
       "      <th id=\"T_91aae_level0_col9\" class=\"col_heading level0 col9\" >Final Average</th>\n",
       "    </tr>\n",
       "    <tr>\n",
       "      <th class=\"blank level1\" >&nbsp;</th>\n",
       "      <th id=\"T_91aae_level1_col0\" class=\"col_heading level1 col0\" >User</th>\n",
       "      <th id=\"T_91aae_level1_col1\" class=\"col_heading level1 col1\" >Assistant</th>\n",
       "      <th id=\"T_91aae_level1_col2\" class=\"col_heading level1 col2\" >Avg.</th>\n",
       "      <th id=\"T_91aae_level1_col3\" class=\"col_heading level1 col3\" >User</th>\n",
       "      <th id=\"T_91aae_level1_col4\" class=\"col_heading level1 col4\" >Assistant</th>\n",
       "      <th id=\"T_91aae_level1_col5\" class=\"col_heading level1 col5\" >Avg.</th>\n",
       "      <th id=\"T_91aae_level1_col6\" class=\"col_heading level1 col6\" >User</th>\n",
       "      <th id=\"T_91aae_level1_col7\" class=\"col_heading level1 col7\" >Assistant</th>\n",
       "      <th id=\"T_91aae_level1_col8\" class=\"col_heading level1 col8\" >Avg.</th>\n",
       "      <th id=\"T_91aae_level1_col9\" class=\"col_heading level1 col9\" ></th>\n",
       "    </tr>\n",
       "  </thead>\n",
       "  <tbody>\n",
       "    <tr>\n",
       "      <th id=\"T_91aae_level0_row0\" class=\"row_heading level0 row0\" >our_pub (recipe)</th>\n",
       "      <td id=\"T_91aae_row0_col0\" class=\"data row0 col0\" >0.850</td>\n",
       "      <td id=\"T_91aae_row0_col1\" class=\"data row0 col1\" >0.932</td>\n",
       "      <td id=\"T_91aae_row0_col2\" class=\"data row0 col2\" >0.891</td>\n",
       "      <td id=\"T_91aae_row0_col3\" class=\"data row0 col3\" >0.810</td>\n",
       "      <td id=\"T_91aae_row0_col4\" class=\"data row0 col4\" >0.911</td>\n",
       "      <td id=\"T_91aae_row0_col5\" class=\"data row0 col5\" >0.860</td>\n",
       "      <td id=\"T_91aae_row0_col6\" class=\"data row0 col6\" >0.823</td>\n",
       "      <td id=\"T_91aae_row0_col7\" class=\"data row0 col7\" >0.912</td>\n",
       "      <td id=\"T_91aae_row0_col8\" class=\"data row0 col8\" >0.867</td>\n",
       "      <td id=\"T_91aae_row0_col9\" class=\"data row0 col9\" >0.872</td>\n",
       "    </tr>\n",
       "    <tr>\n",
       "      <th id=\"T_91aae_level0_row1\" class=\"row_heading level0 row1\" >our_pub (movie)</th>\n",
       "      <td id=\"T_91aae_row1_col0\" class=\"data row1 col0\" >0.857</td>\n",
       "      <td id=\"T_91aae_row1_col1\" class=\"data row1 col1\" >0.937</td>\n",
       "      <td id=\"T_91aae_row1_col2\" class=\"data row1 col2\" >0.897</td>\n",
       "      <td id=\"T_91aae_row1_col3\" class=\"data row1 col3\" >0.829</td>\n",
       "      <td id=\"T_91aae_row1_col4\" class=\"data row1 col4\" >0.908</td>\n",
       "      <td id=\"T_91aae_row1_col5\" class=\"data row1 col5\" >0.868</td>\n",
       "      <td id=\"T_91aae_row1_col6\" class=\"data row1 col6\" >0.839</td>\n",
       "      <td id=\"T_91aae_row1_col7\" class=\"data row1 col7\" >0.910</td>\n",
       "      <td id=\"T_91aae_row1_col8\" class=\"data row1 col8\" >0.874</td>\n",
       "      <td id=\"T_91aae_row1_col9\" class=\"data row1 col9\" >0.88</td>\n",
       "    </tr>\n",
       "  </tbody>\n",
       "</table>\n"
      ],
      "text/plain": [
       "<pandas.io.formats.style.Styler at 0x7f9c14b97f70>"
      ]
     },
     "execution_count": 3,
     "metadata": {},
     "output_type": "execute_result"
    }
   ],
   "source": [
    "import pandas as pd\n",
    "\n",
    "result_df = pd.concat([df_recipe, df_movie], axis=0)    \n",
    "result_df = add_avg_cols(result_df)\n",
    "result_df.style.set_properties(**{'text-align': 'center'}).set_table_styles([dict(selector='th', props=[('text-align', 'center')])])"
   ]
  },
  {
   "cell_type": "code",
   "execution_count": null,
   "metadata": {},
   "outputs": [],
   "source": []
  },
  {
   "cell_type": "code",
   "execution_count": null,
   "metadata": {},
   "outputs": [],
   "source": []
  },
  {
   "cell_type": "code",
   "execution_count": null,
   "metadata": {},
   "outputs": [],
   "source": []
  },
  {
   "cell_type": "code",
   "execution_count": null,
   "metadata": {},
   "outputs": [],
   "source": []
  },
  {
   "cell_type": "code",
   "execution_count": null,
   "metadata": {},
   "outputs": [],
   "source": []
  }
 ],
 "metadata": {
  "kernelspec": {
   "display_name": "231017_unieval",
   "language": "python",
   "name": "python3"
  },
  "language_info": {
   "codemirror_mode": {
    "name": "ipython",
    "version": 3
   },
   "file_extension": ".py",
   "mimetype": "text/x-python",
   "name": "python",
   "nbconvert_exporter": "python",
   "pygments_lexer": "ipython3",
   "version": "3.8.16"
  }
 },
 "nbformat": 4,
 "nbformat_minor": 2
}
